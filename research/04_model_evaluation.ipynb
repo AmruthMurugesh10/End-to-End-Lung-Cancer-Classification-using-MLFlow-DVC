{
 "cells": [
  {
   "cell_type": "code",
   "execution_count": 1,
   "metadata": {},
   "outputs": [],
   "source": [
    "import os"
   ]
  },
  {
   "cell_type": "code",
   "execution_count": 2,
   "metadata": {},
   "outputs": [
    {
     "data": {
      "text/plain": [
       "'e:\\\\Project\\\\End-to-End-Lung-Cancer-Classification-using-MLFlow-DVC\\\\.venv\\\\research'"
      ]
     },
     "execution_count": 2,
     "metadata": {},
     "output_type": "execute_result"
    }
   ],
   "source": [
    "%pwd"
   ]
  },
  {
   "cell_type": "code",
   "execution_count": 3,
   "metadata": {},
   "outputs": [],
   "source": [
    "os.chdir(\"../\")"
   ]
  },
  {
   "cell_type": "code",
   "execution_count": null,
   "metadata": {},
   "outputs": [],
   "source": [
    "os.environ[\"MLFLOW_TRACKING_URI\"]=\"https://dagshub.com/AmruthMurugesh10/End-to-End-Lung-Cancer-Classification-using-MLFlow-DVC.mlflow\"\n",
    "os.environ[\"MLFLOW_TRACKING_USERNAME\"]=\"AmruthMurugesh10\"\n",
    "os.environ[\"MLFLOW_TRACKING_PASSWORD\"]=\"5645e9931e2223c59a95356e8cfd7c03b32afc1a\""
   ]
  },
  {
   "cell_type": "code",
   "execution_count": null,
   "metadata": {},
   "outputs": [],
   "source": [
    "MLFLOW_TRACKING_URI=https://dagshub.com/AmruthMurugesh10/End-to-End-Lung-Cancer-Classification-using-MLFlow-DVC.mlflow \\\n",
    "MLFLOW_TRACKING_USERNAME=AmruthMurugesh10 \\\n",
    "MLFLOW_TRACKING_PASSWORD=5645e9931e2223c59a95356e8cfd7c03b32afc1a \\\n",
    "python script.py"
   ]
  }
 ],
 "metadata": {
  "kernelspec": {
   "display_name": ".venv",
   "language": "python",
   "name": "python3"
  },
  "language_info": {
   "codemirror_mode": {
    "name": "ipython",
    "version": 3
   },
   "file_extension": ".py",
   "mimetype": "text/x-python",
   "name": "python",
   "nbconvert_exporter": "python",
   "pygments_lexer": "ipython3",
   "version": "3.8.10"
  }
 },
 "nbformat": 4,
 "nbformat_minor": 2
}
